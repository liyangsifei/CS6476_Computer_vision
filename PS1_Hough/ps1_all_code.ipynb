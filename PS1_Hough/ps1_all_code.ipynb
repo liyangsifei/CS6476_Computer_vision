{
 "cells": [
  {
   "cell_type": "code",
   "execution_count": 3,
   "metadata": {},
   "outputs": [],
   "source": [
    "import cv2\n",
    "import numpy as np\n",
    "from math import sin, cos, tan, pi"
   ]
  },
  {
   "cell_type": "code",
   "execution_count": 4,
   "metadata": {},
   "outputs": [],
   "source": [
    "img0 = cv2.imread('ps1-input0.png', cv2.IMREAD_COLOR)"
   ]
  },
  {
   "cell_type": "markdown",
   "metadata": {},
   "source": [
    "1 In the Problem Set directory there is a Data director with a few images. For this question use the first one ps1-input0.png which looks like this:\n",
    "This is a test image for which the answer should be clear, where the “object” boundaries are only lines.\n",
    "     \n",
    "    a. Do “doc edge” in Matlab and read about edge operators. Using one of your choosing – for this image it probably won’t matter much – create an edge image which is a binary image with white pixels on the edges and black pixels elsewhere. If your edge operator uses parameters (like ‘canny’) play with those until you get the edges you would expect to see.\n",
    "    Output: the edge image"
   ]
  },
  {
   "cell_type": "code",
   "execution_count": 5,
   "metadata": {},
   "outputs": [
    {
     "data": {
      "text/plain": [
       "True"
      ]
     },
     "execution_count": 5,
     "metadata": {},
     "output_type": "execute_result"
    }
   ],
   "source": [
    "img0_edge = cv2.Canny(img0,100,200)\n",
    "cv2.imwrite('ps1-1-a.png', img0_edge)"
   ]
  },
  {
   "cell_type": "markdown",
   "metadata": {},
   "source": [
    "![ps1-1-a](./ps1-1-a.png)"
   ]
  },
  {
   "cell_type": "markdown",
   "metadata": {},
   "source": [
    "2 Write a Hough method for finding lines. Remember to worry about d being negative if $\\theta$ goes from 0 to $\\pi$ . \n",
    "\n",
    "    Apply it to the edge image. Draw the lines in color on the monochrome intensity (not edge) image. The lines can extend to the edge of the images (aka infinite lines). \n",
    "    You should see an image that looks like this:\n",
    "    You might get lines at the boundary of the image too depending upon the edge operator you selected (but those really shouldn’t be there).\n",
    "    Output: Hough accumulator array image with peaks circled or somehow labeled. \n",
    "    Output: intensity image with lines drawn on them\n",
    "    Output: written response describing your accumulator bin sizes and why/how you picked those.\n"
   ]
  },
  {
   "cell_type": "code",
   "execution_count": 20,
   "metadata": {},
   "outputs": [],
   "source": [
    "def hough_line(img, edge_img=None, d_size=250, theta_size=250, peak_prop=0.9, min_vote=100):\n",
    "    \n",
    "    if edge_img is not None:\n",
    "        edge = edge_img\n",
    "    else:\n",
    "        edge = cv2.Canny(img, 100, 200)\n",
    "    \n",
    "    if img is not None:\n",
    "        img_out = img.copy()\n",
    "    \n",
    "    H = np.zeros((d_size, theta_size))\n",
    "    theta = np.deg2rad(np.arange(0.0, 180.0, 180.0/theta_size))\n",
    "    \n",
    "    d_max = int(np.hypot(len(img), len(img[0])))\n",
    "    d_max = round(d_max, 2)\n",
    "    d_step = d_max / d_size * 2\n",
    "    \n",
    "    distance = np.arange(0-d_max, d_max, d_step)\n",
    "    true_max_d = 0.0\n",
    "    true_min_d = 200.0\n",
    "    true_max_d_index = 0\n",
    "    true_min_d_index = 100\n",
    "    \n",
    "    y_size, x_size = edge.shape\n",
    "    \n",
    "    for i in range(x_size):\n",
    "        for j in range(y_size):\n",
    "            if edge[j][i] >= 200:\n",
    "                for k in range(len(theta)):\n",
    "                    ang = theta[k]\n",
    "                    d = i * cos(ang) + j * sin(ang)\n",
    "                    d_index = int(d/d_step + 0.5) + int(d_size/2)\n",
    "                    H[d_index][k] += 1.0\n",
    "                    #H[d_index - 1 if d_index > 0 else 0][k] += 0.1\n",
    "                    #H[d_index + 1 if d_index < d_size - 1 else d_size - 1] += 0.1\n",
    "                \n",
    "    i, j = H.shape\n",
    "    m = np.max(H)\n",
    "    for p in range(i):\n",
    "        for q in range(j):\n",
    "            if H[p][q] >= m * peak_prop and H[p][q] > min_vote:\n",
    "                d = (p - d_size/2) * d_step\n",
    "                t = theta[q]\n",
    "                \n",
    "                if abs(t - pi/2) > 0.01:\n",
    "                    if t > 0.01:\n",
    "                        p1_x = int(d / cos(t) + 0.5)\n",
    "                        p2_x = int( (d - y_size * sin(t)) / cos(t) + 0.5)\n",
    "                        p1_y = 0\n",
    "                        p2_y = y_size\n",
    "                    else:\n",
    "                        p1_x = int(d)\n",
    "                        p2_x = int(d)\n",
    "                        p1_y = 0\n",
    "                        p2_y = y_size\n",
    "                \n",
    "                else:\n",
    "                    p1_x = 0\n",
    "                    p2_x = x_size -1\n",
    "                    p1_y = int(d)\n",
    "                    p2_y = int(d)\n",
    "                    \n",
    "                img_out = cv2.line(img_out, (p1_x, p1_y), (p2_x, p2_y), (100,200,0), 1)\n",
    "    if img is not None:\n",
    "        return img_out, H\n",
    "    else:\n",
    "        return H"
   ]
  },
  {
   "cell_type": "code",
   "execution_count": 21,
   "metadata": {},
   "outputs": [
    {
     "data": {
      "text/plain": [
       "True"
      ]
     },
     "execution_count": 21,
     "metadata": {},
     "output_type": "execute_result"
    }
   ],
   "source": [
    "img0_hough, h = hough_line(img0, peak_prop=0.95)\n",
    "cv2.imwrite('ps1-2-a.png', img0_hough)"
   ]
  },
  {
   "cell_type": "markdown",
   "metadata": {},
   "source": [
    "Answer:\n",
    "    \n",
    "    I choose the accumulator array size by using the similar size with the original image. If the size of accumulator is too small, it is hard to calculate a precise distance. "
   ]
  },
  {
   "cell_type": "markdown",
   "metadata": {},
   "source": [
    "![ps1-2-a](./ps1-2-a.png)"
   ]
  },
  {
   "cell_type": "markdown",
   "metadata": {},
   "source": [
    "3 Now were going to add noise. For this question use the first one ps1-input0-noise.png .\n",
    "\n",
    "    a. This image is the same as before but with noise. Compute a modestly smoothed version of this image by using a Gaussian filter. Make σ at least a few pixels big.\n",
    "    Output: smoothed image"
   ]
  },
  {
   "cell_type": "code",
   "execution_count": 134,
   "metadata": {},
   "outputs": [],
   "source": [
    "img0_noise = cv2.imread('ps1-input0-noise.png', cv2.IMREAD_COLOR)"
   ]
  },
  {
   "cell_type": "code",
   "execution_count": 135,
   "metadata": {},
   "outputs": [
    {
     "data": {
      "text/plain": [
       "True"
      ]
     },
     "execution_count": 135,
     "metadata": {},
     "output_type": "execute_result"
    }
   ],
   "source": [
    "img0_noise_filtered = cv2.GaussianBlur(img0_noise, (7,7), 3)\n",
    "cv2.imwrite('ps1-3-a.png', img0_noise_filtered)"
   ]
  },
  {
   "cell_type": "markdown",
   "metadata": {},
   "source": [
    "![ps1-3-a](./ps1-3-a.png)"
   ]
  },
  {
   "cell_type": "markdown",
   "metadata": {},
   "source": [
    "    b. Using an edge operator of your choosing, create a binary edge image for both the raw monochrome image and the smoothed version above.\n",
    "    Output: the two edge images"
   ]
  },
  {
   "cell_type": "code",
   "execution_count": 136,
   "metadata": {},
   "outputs": [
    {
     "data": {
      "text/plain": [
       "True"
      ]
     },
     "execution_count": 136,
     "metadata": {},
     "output_type": "execute_result"
    }
   ],
   "source": [
    "img0_noise_edge = cv2.Canny(img0_noise, 200, 250)\n",
    "img0_noise_filtered_edge = cv2.Canny(img0_noise_filtered, 50, 160)\n",
    "\n",
    "cv2.imwrite('ps1-3-b-1.png', img0_noise_edge)\n",
    "cv2.imwrite('ps1-3-b-2.png', img0_noise_filtered_edge)"
   ]
  },
  {
   "cell_type": "markdown",
   "metadata": {},
   "source": [
    "![ps1-3-b-1](./ps1-3-b-1.png)![ps1-3-b-2](./ps1-3-b-2.png)"
   ]
  },
  {
   "cell_type": "markdown",
   "metadata": {},
   "source": [
    "    c. Now apply your Hough method to the smoothed version of the edge image. Your goal is to adjust the filtering, the edge finding, and the Hough algorithms to find the lines as best you can in this test case\n",
    "                                                    \n",
    "    Output: Hough accumulator array image with peaks circled or somehow labeled. \n",
    "    Output: intensity image (original one with the noise )with lines drawn on them \n",
    "    Output: describe what you had to do to get the best result you could."
   ]
  },
  {
   "cell_type": "code",
   "execution_count": 137,
   "metadata": {},
   "outputs": [
    {
     "data": {
      "text/plain": [
       "True"
      ]
     },
     "execution_count": 137,
     "metadata": {},
     "output_type": "execute_result"
    }
   ],
   "source": [
    "# Apply Hough method\n",
    "img0_noise_filtered_hough, hough_img0_noise = hough_line(\n",
    "    img = img0_noise_filtered, edge_img=img0_noise_filtered_edge, d_size=200, theta_size=200, peak_prop=0.8)\n",
    "cv2.imwrite('ps1-3-c.png', img0_noise_filtered_hough)"
   ]
  },
  {
   "cell_type": "code",
   "execution_count": 144,
   "metadata": {},
   "outputs": [],
   "source": [
    "# Create accumulator array image\n",
    "hough_max = np.max(hough_img0_noise)\n",
    "hough_img0_noise[:,:] = (1.0 - hough_img0_noise/hough_max) *255.0\n",
    "cv2.imwrite('ps1-3-c-1.png', hough_img0_noise)"
   ]
  },
  {
   "cell_type": "markdown",
   "metadata": {},
   "source": [
    "![ps1-3-c-1](./ps1-3-c-1.png)"
   ]
  },
  {
   "cell_type": "markdown",
   "metadata": {},
   "source": [
    "Answer:\n",
    "\n",
    "A small size of sigma can keep noises; a larger sigma can reduce noises. We should use a small but non-zero sigma to reduce some noises in the center of the image. Then the thresholds of the Canny edge function should be adjusted. The low threshold is smaller than the usual value to leave enough lines, which have no relationship with other lines. "
   ]
  },
  {
   "cell_type": "markdown",
   "metadata": {},
   "source": [
    "![ps1-3-c](./ps1-3-c.png)"
   ]
  },
  {
   "cell_type": "markdown",
   "metadata": {},
   "source": [
    "4 For this question use the first one ps1-input1.jpg .\n",
    "    \n",
    "    a. This image has objects in it whose boundaries are circles (coins) or lines (pens). For this question you’re still finding lines. Create a monochrome version of the image and compute a modestly smoothed version of this image by using a Gaussian filter. Make σ at least a few pixels big.\n",
    "    Output: smoothed image"
   ]
  },
  {
   "cell_type": "code",
   "execution_count": 6,
   "metadata": {},
   "outputs": [],
   "source": [
    "img1 = cv2.imread('ps1-input1.jpg')\n",
    "img1_mono = cv2.cvtColor(img1, cv2.COLOR_BGR2GRAY)"
   ]
  },
  {
   "cell_type": "code",
   "execution_count": 8,
   "metadata": {},
   "outputs": [
    {
     "data": {
      "text/plain": [
       "True"
      ]
     },
     "execution_count": 8,
     "metadata": {},
     "output_type": "execute_result"
    }
   ],
   "source": [
    "img1_filtered = cv2.GaussianBlur(img1_mono,(7,7), 3)\n",
    "cv2.imwrite('ps1-4-a.jpg', img1_filtered)"
   ]
  },
  {
   "cell_type": "markdown",
   "metadata": {},
   "source": [
    "![ps1-4-a](./ps1-4-a.jpg)"
   ]
  },
  {
   "cell_type": "markdown",
   "metadata": {},
   "source": [
    "    b. Using an edge operator and parameters of your choosing, create an edge image for the smoothed version above.\n",
    "    Output: the edge image"
   ]
  },
  {
   "cell_type": "code",
   "execution_count": 9,
   "metadata": {},
   "outputs": [
    {
     "data": {
      "text/plain": [
       "True"
      ]
     },
     "execution_count": 9,
     "metadata": {},
     "output_type": "execute_result"
    }
   ],
   "source": [
    "img1_filtered_edge = cv2.Canny(img1_filtered,100,200)\n",
    "cv2.imwrite('ps1-4-b.jpg', img1_filtered_edge)"
   ]
  },
  {
   "cell_type": "markdown",
   "metadata": {},
   "source": [
    "![ps1-4-b](./ps1-4-b.jpg)"
   ]
  },
  {
   "cell_type": "markdown",
   "metadata": {},
   "source": [
    "    c. Apply your Hough algorithm to find the lines along the pens. Draw the lines in color on the smoothed monochrome intensity (not edge) image. The lines can extend to the edge of the images (aka infinite lines).\n",
    "    Output: Hough accumulator array image with peaks circled or somehow labeled.\n",
    "    Output: intensity images with lines drawn on them\n",
    "    Output: describe what you had to do to get the best result you could"
   ]
  },
  {
   "cell_type": "code",
   "execution_count": 12,
   "metadata": {},
   "outputs": [
    {
     "data": {
      "text/plain": [
       "True"
      ]
     },
     "execution_count": 12,
     "metadata": {},
     "output_type": "execute_result"
    }
   ],
   "source": [
    "img1_mono_colored = cv2.cvtColor(img1_filtered, cv2.COLOR_GRAY2BGR)\n",
    "img1_mono_hough, h_img1_mono = hough_line(img1_mono_colored, edge_img=img1_filtered_edge, d_size=600, theta_size=600, peak_prop=0.7, min_vote=100)\n",
    "cv2.imwrite('ps1-4-c-2.png', img1_mono_hough)"
   ]
  },
  {
   "cell_type": "code",
   "execution_count": 148,
   "metadata": {},
   "outputs": [
    {
     "data": {
      "text/plain": [
       "True"
      ]
     },
     "execution_count": 148,
     "metadata": {},
     "output_type": "execute_result"
    }
   ],
   "source": [
    "# Create accumulator array image\n",
    "hough_max1 = np.max(h_img1_mono)\n",
    "h_img1_mono = (1.0 - h_img1_mono/hough_max1) *255.0\n",
    "cv2.imwrite('ps1-4-c-1.png', h_img1_mono)"
   ]
  },
  {
   "cell_type": "markdown",
   "metadata": {},
   "source": [
    "![ps1-4-c-1](./ps1-4-c-1.png)"
   ]
  },
  {
   "cell_type": "markdown",
   "metadata": {},
   "source": [
    "Answer:\n",
    "\n",
    "The filter should have some small values of sigma to remove noise edges. When building the hough space, I tried to add some smaller values to neighboring places, but that did not work well. So I only use thresholds to limit the hough space values to be counted as lines in the image."
   ]
  },
  {
   "cell_type": "markdown",
   "metadata": {},
   "source": [
    "![ps1-4-c-2](./ps1-4-c-2.png)"
   ]
  },
  {
   "cell_type": "markdown",
   "metadata": {},
   "source": [
    "    5 Now for circles. Write a circle finding version of the Hough transform. You can implement either the single point method or the point plus gradient method. THIS PART IS (SOMETIMES) HARDER THAN IT LOOKS – LEAVE EXTRA TIME FOR THIS!!!! TO TEST THIS YOU MIGHT MAKE YOUR OWN TEST IMAGE. If you find your arrays getting too big (hint, hint) you might try make the range of radii very small to start with and see if you can find one size circle. Then maybe try the different sizes.\n",
    "    \n",
    "    a. Using the same original image as above. Smooth it, find the edges, find the circles.\n",
    "    Output: edge image and images with the circles drawn in color \n",
    "    Output: describe what you had to do to find the circles."
   ]
  },
  {
   "cell_type": "code",
   "execution_count": 122,
   "metadata": {},
   "outputs": [],
   "source": [
    "def hough_circle(img, edge_img=None, gradient=False, r_size=100, r_max=100, peak_prop=0.9, min_vote=10, decal=0.1, min_r=3):\n",
    "    \n",
    "    if edge_img is not None:\n",
    "        edge = edge_img\n",
    "    else:\n",
    "        edge = cv2.Canny(img, 100, 200)\n",
    "    \n",
    "    if img is not None:\n",
    "        img_out = img.copy()\n",
    "    \n",
    "    y_size, x_size = edge.shape\n",
    "    H = np.zeros((y_size, x_size, r_size))\n",
    "    \n",
    "    # r_max = np.hypot(x_size, y_size) / 2\n",
    "    r_list = np.arange(1, r_max, r_max/r_size)\n",
    "    \n",
    "    for xi in range(x_size):\n",
    "        for yi in range(y_size):\n",
    "            if edge[yi][xi] >= 200:\n",
    "                if gradient:\n",
    "                    pass\n",
    "                else:\n",
    "                    for r in range(1, r_size):\n",
    "                        for deg in range(0, 360):\n",
    "                            theta = np.deg2rad(deg)\n",
    "                            ai = int(xi - r * cos(theta)+0.5)\n",
    "                            bi = int(yi + r * sin(theta)+0.5)\n",
    "                            r_ind = int((r - 1) * r_size / (r_max - 1))\n",
    "                            if 0 <= ai < x_size and 0 <= bi < y_size:\n",
    "                                H[bi][ai][r_ind + 1 if r+1 < r_max else r_max - 1] += decal\n",
    "                                H[bi][ai][r_ind] += 1.0\n",
    "                                H[bi][ai][r_ind - 1 if r_ind - 1 >= 0 else 0] += decal\n",
    "    m = np.max(H)\n",
    "    for a in range(x_size):\n",
    "        for b in range(y_size):\n",
    "            for r in range(min_r, r_size): \n",
    "                if H[b][a][r] >= m * peak_prop and H[b][a][r] >= min_vote:\n",
    "                    center_x = a\n",
    "                    center_y = b\n",
    "                    radius = int(r_list[r])\n",
    "                    \n",
    "                    img_out = cv2.circle(img_out, (center_x, center_y), radius, (0,255,0), 1)\n",
    "    if img is not None:\n",
    "        return img_out, H\n",
    "    else:\n",
    "        return H"
   ]
  },
  {
   "cell_type": "code",
   "execution_count": 17,
   "metadata": {},
   "outputs": [
    {
     "data": {
      "text/plain": [
       "True"
      ]
     },
     "execution_count": 17,
     "metadata": {},
     "output_type": "execute_result"
    }
   ],
   "source": [
    "img1_mono_hough_circle, h_img1_circle = hough_circle(\n",
    "    img1_mono_colored, edge_img=img1_filtered_edge, \n",
    "    r_size=50, r_max=50,\n",
    "    peak_prop=0.7, min_vote=150)\n",
    "cv2.imwrite('ps1-5-a.png', img1_mono_hough_circle)"
   ]
  },
  {
   "cell_type": "markdown",
   "metadata": {},
   "source": [
    "Answer:\n",
    "    \n",
    "I did the finding circle Hough transform by testing different radius sizes. We need a hough space with three dimensions: x of the center, y of the center, and the radius. For each edge point in the original image, we try different sizes of angle theta and various size of radius to find reasonable centers of that point and add values to the hough space. After the hough space (an accumulator array) is built, find the center's max values and draw circles on the original image.\n"
   ]
  },
  {
   "cell_type": "markdown",
   "metadata": {},
   "source": [
    "![ps1-5-a](./ps1-5-a.png)"
   ]
  },
  {
   "cell_type": "markdown",
   "metadata": {},
   "source": [
    "    6 More realistic images. Now that you have Hough methods working, we’re going to try them on images that have clutter in them: visual elements that are not part of the objects to be detected. The image to use is ps1-input2.jpg\n",
    "    a. Apply your line finder. Use a smoothing filter and edge detector that seems to work best in terms of finding all the pen edges. Don’t worry (until b) about whether you arefinding other lines.\n",
    "    Output: the smoothed image you used with the Hough lines drawn on them."
   ]
  },
  {
   "cell_type": "code",
   "execution_count": 25,
   "metadata": {},
   "outputs": [],
   "source": [
    "img2 = cv2.imread('ps1-input2.jpg')"
   ]
  },
  {
   "cell_type": "code",
   "execution_count": 94,
   "metadata": {},
   "outputs": [
    {
     "data": {
      "text/plain": [
       "True"
      ]
     },
     "execution_count": 94,
     "metadata": {},
     "output_type": "execute_result"
    }
   ],
   "source": [
    "img2_filtered = cv2.GaussianBlur(img2,(13,13), 3)\n",
    "cv2.imwrite('ps1-6-a-1.jpg', img2_filtered)\n",
    "img2_filtered_edge = cv2.Canny(img2_filtered,50,100)\n",
    "cv2.imwrite('ps1-6-a-2.jpg', img2_filtered_edge)"
   ]
  },
  {
   "cell_type": "code",
   "execution_count": 96,
   "metadata": {},
   "outputs": [
    {
     "data": {
      "text/plain": [
       "True"
      ]
     },
     "execution_count": 96,
     "metadata": {},
     "output_type": "execute_result"
    }
   ],
   "source": [
    "img2_pen_lines, h_img2_line = hough_line(img2_filtered, edge_img=img2_filtered_edge,\n",
    "                                         d_size=600, theta_size=300, min_vote=50, peak_prop=0.6)\n",
    "cv2.imwrite('ps1-6-a.jpg', img2_pen_lines)"
   ]
  },
  {
   "cell_type": "markdown",
   "metadata": {},
   "source": [
    "![ps1-6-a](./ps1-6-a.jpg)"
   ]
  },
  {
   "cell_type": "markdown",
   "metadata": {},
   "source": [
    "    b. Likely the last step found lines that are not the boundaries of the pens. What are the problems present?\n",
    "    Output: written response."
   ]
  },
  {
   "cell_type": "markdown",
   "metadata": {},
   "source": [
    "Answer:\n",
    "\n",
    "The lines found are not only boundaries of the pens, but also boundaries of books and line patterns on the book."
   ]
  },
  {
   "cell_type": "markdown",
   "metadata": {},
   "source": [
    "    c. Attempt to find only the lines that are the *boundaries* of the pen. Three operations you need to try are better thresholding in finding the lines (look for stronger edges), checking the minimum length of the line, looking for nearby parallel lines\n",
    "    Output: Smoothed image with new Hough lines drawn."
   ]
  },
  {
   "cell_type": "code",
   "execution_count": 97,
   "metadata": {},
   "outputs": [
    {
     "data": {
      "text/plain": [
       "True"
      ]
     },
     "execution_count": 97,
     "metadata": {},
     "output_type": "execute_result"
    }
   ],
   "source": [
    "img2_pen_lines2, h_img2_line2 = hough_line_pen(img2_filtered, edge_img=img2_filtered_edge,\n",
    "                                         d_size=600, theta_size=300, min_vote=100, peak_prop=0.6)\n",
    "cv2.imwrite('ps1-6-c.jpg', img2_pen_lines2)"
   ]
  },
  {
   "cell_type": "markdown",
   "metadata": {},
   "source": [
    "![ps1-6-c](./ps1-6-c.jpg)"
   ]
  },
  {
   "cell_type": "code",
   "execution_count": 78,
   "metadata": {},
   "outputs": [],
   "source": [
    "def hough_line_pen(img, edge_img=None, d_size=250, theta_size=250, peak_prop=0.9, min_vote=100):\n",
    "    \n",
    "    if edge_img is not None:\n",
    "        edge = edge_img\n",
    "    else:\n",
    "        edge = cv2.Canny(img, 100, 200)\n",
    "    \n",
    "    if img is not None:\n",
    "        img_out = img.copy()\n",
    "    \n",
    "    H = np.zeros((d_size, theta_size))\n",
    "    theta = np.deg2rad(np.arange(0.0, 180.0, 180.0/theta_size))\n",
    "    \n",
    "    d_max = int(np.hypot(len(img), len(img[0])))\n",
    "    d_max = round(d_max, 2)\n",
    "    d_step = d_max / d_size * 2\n",
    "    \n",
    "    distance = np.arange(0-d_max, d_max, d_step)\n",
    "    true_max_d = 0.0\n",
    "    true_min_d = 200.0\n",
    "    true_max_d_index = 0\n",
    "    true_min_d_index = 100\n",
    "    \n",
    "    y_size, x_size = edge.shape\n",
    "    \n",
    "    for i in range(x_size):\n",
    "        for j in range(y_size):\n",
    "            if edge[j][i] >= 200:\n",
    "                for k in range(len(theta)):\n",
    "                    ang = theta[k]\n",
    "                    d = i * cos(ang) + j * sin(ang)\n",
    "                    d_index = int(d/d_step + 0.5) + int(d_size/2)\n",
    "                    H[d_index][k] += 1\n",
    "                    # H[d_index - 1 if d_index > 0 else 0][k] += 0.01\n",
    "                    # H[d_index + 1 if d_index < d_size - 1 else d_size - 1] += 0.01\n",
    "                \n",
    "    i, j = H.shape\n",
    "    m = np.max(H)\n",
    "    for p in range(i):\n",
    "        for q in range(j):\n",
    "            if H[p][q] >= m * peak_prop and H[p][q] >= min_vote:\n",
    "                has_par = False\n",
    "                for i in range(1, 50):\n",
    "                    val1 = H[p-i if p-i > 0 else 0][q]\n",
    "                    if val1 >= m * peak_prop and val1 >= min_vote:\n",
    "                        has_par = True\n",
    "                        break\n",
    "                    val2 = H[p+i if p+i < d_size-1 else d_size-1][q]\n",
    "                    if val2 >= m * peak_prop and val2 >= min_vote:\n",
    "                        has_par = True\n",
    "                        break\n",
    "                if has_par:\n",
    "                    d = (p - d_size/2) * d_step\n",
    "                    t = theta[q]\n",
    "                \n",
    "                    if abs(t - pi/2) > 0.01:\n",
    "                        if t > 0.01:\n",
    "                            p1_x = int(d / cos(t) + 0.5)\n",
    "                            p2_x = int( (d - y_size * sin(t)) / cos(t) + 0.5)\n",
    "                            p1_y = 0\n",
    "                            p2_y = y_size\n",
    "                        else:\n",
    "                            p1_x = int(d)\n",
    "                            p2_x = int(d)\n",
    "                            p1_y = 0\n",
    "                            p2_y = y_size\n",
    "                \n",
    "                    else:\n",
    "                        p1_x = 0\n",
    "                        p2_x = x_size -1\n",
    "                        p1_y = int(d)\n",
    "                        p2_y = int(d)\n",
    "                    \n",
    "                    img_out = cv2.line(img_out, (p1_x, p1_y), (p2_x, p2_y), (100,200,0), 1)\n",
    "    if img is not None:\n",
    "        return img_out, H\n",
    "    else:\n",
    "        return H"
   ]
  },
  {
   "cell_type": "markdown",
   "metadata": {},
   "source": [
    "    7 Finding circles on the same clutter image.\n",
    "    a. Apply your circle finder. Use a smoothing filter that seems to work best in terms of finding all the coins.\n",
    "    Output: the smoothed image you used with the circles drawn on them."
   ]
  },
  {
   "cell_type": "code",
   "execution_count": 104,
   "metadata": {},
   "outputs": [
    {
     "data": {
      "text/plain": [
       "True"
      ]
     },
     "execution_count": 104,
     "metadata": {},
     "output_type": "execute_result"
    }
   ],
   "source": [
    "img2_circle_filtered = cv2.GaussianBlur(img2, (9,9), 2)\n",
    "img2_circle_filtered_edge = cv2.Canny(img2_circle_filtered, 50, 100)\n",
    "cv2.imwrite('ps1-7-a-1.jpg', img2_circle_filtered)\n",
    "cv2.imwrite('ps1-7-a-2.jpg', img2_circle_filtered_edge)"
   ]
  },
  {
   "cell_type": "code",
   "execution_count": 129,
   "metadata": {},
   "outputs": [
    {
     "data": {
      "text/plain": [
       "True"
      ]
     },
     "execution_count": 129,
     "metadata": {},
     "output_type": "execute_result"
    }
   ],
   "source": [
    "img2_circle, h_img2_circle = hough_circle(img2_circle_filtered, edge_img=img2_circle_filtered_edge,\n",
    "                                          r_size=100, r_max=100, peak_prop=0.6, min_vote=100, decal=0.5, min_r=5)\n",
    "cv2.imwrite('ps1-7-a.jpg', img2_circle)"
   ]
  },
  {
   "cell_type": "markdown",
   "metadata": {},
   "source": [
    "![ps1-7-a](./ps1-7-a.jpg)"
   ]
  },
  {
   "cell_type": "markdown",
   "metadata": {},
   "source": [
    "    b. Are there any false alarms? How would/did you get rid of them?\n",
    "    Output: written response (if you did these steps mention that they are in the code)"
   ]
  },
  {
   "cell_type": "markdown",
   "metadata": {},
   "source": [
    "I think the problem is that with a colored background, the edge of coins are nor so clear as it was on a black background. So when adding values to the hough space, I also added some smaller values to the nearby. And some small, not circle patterns were detected as the circle. So I also added a parameter to limit the smallest radius. "
   ]
  },
  {
   "cell_type": "markdown",
   "metadata": {},
   "source": [
    "    8 Sensitivity to distortion. There is a distorted version of the scene at ps1-input3.jpg\n",
    "    a. Apply the line and circle finder to the distorted image. Can you find lines? The circles?\n",
    "    Output: Image with lines and circles (if any) found."
   ]
  },
  {
   "cell_type": "code",
   "execution_count": 109,
   "metadata": {},
   "outputs": [],
   "source": [
    "img3 = cv2.imread('ps1-input3.jpg')"
   ]
  },
  {
   "cell_type": "code",
   "execution_count": 120,
   "metadata": {},
   "outputs": [
    {
     "data": {
      "text/plain": [
       "True"
      ]
     },
     "execution_count": 120,
     "metadata": {},
     "output_type": "execute_result"
    }
   ],
   "source": [
    "img3_lines, h_img3_lines = hough_line(img3_filtered, edge_img=img3_canny, \n",
    "                                      d_size=1000, theta_size=300, peak_prop=0.8, min_vote=50)\n",
    "cv2.imwrite('ps1-8-a-1.jpg', img3_lines)"
   ]
  },
  {
   "cell_type": "code",
   "execution_count": 156,
   "metadata": {},
   "outputs": [
    {
     "data": {
      "text/plain": [
       "True"
      ]
     },
     "execution_count": 156,
     "metadata": {},
     "output_type": "execute_result"
    }
   ],
   "source": [
    "img3_circles, h_img3_circle = hough_circle(img3_filtered,edge_img=img3_canny, \n",
    "                                         r_size=100, r_max=100, peak_prop=0.6, min_vote=200, min_r=1)\n",
    "cv2.imwrite('ps1-8-a-2.jpg', img3_circles)"
   ]
  },
  {
   "cell_type": "markdown",
   "metadata": {},
   "source": [
    "![ps1-8-a-1](./ps1-8-a-1.jpg)"
   ]
  },
  {
   "cell_type": "markdown",
   "metadata": {},
   "source": [
    "![ps1-8-a-2](./ps1-8-a-2.jpg)"
   ]
  },
  {
   "cell_type": "markdown",
   "metadata": {},
   "source": [
    "    b. What might you do to fix the circle problem?\n",
    "    Output: written response describing what you might try."
   ]
  },
  {
   "cell_type": "markdown",
   "metadata": {},
   "source": [
    "Answer:\n",
    "\n",
    "The circles are distorted; it looks like an ellipse but may not a standard ellipse. Maybe we can use the formula of an ellipse to build the hough space. x^2/a^2 + y^2/b^2 = 1, so we need parameters a and b as another two dimensions to calculate the ellipse center. But the four dimension needs a significant amount of time."
   ]
  },
  {
   "cell_type": "markdown",
   "metadata": {},
   "source": [
    "    c. Try to fix the circle problem THIS IS HARD.\n",
    "    Output: Written response describing what tried and what worked best. Output: Image that is the best shot at fixing the circle problem."
   ]
  },
  {
   "cell_type": "code",
   "execution_count": 149,
   "metadata": {},
   "outputs": [],
   "source": [
    "def hough_ellipse(img, edge_img=None, ra_size=100, rb_size=100, r_max=100, peak_prop=0.9, min_vote=10, decal=0.1):\n",
    "    \n",
    "    if edge_img is not None:\n",
    "        edge = edge_img\n",
    "    else:\n",
    "        edge = cv2.Canny(img, 100, 200)\n",
    "    \n",
    "    if img is not None:\n",
    "        img_out = img.copy()\n",
    "    \n",
    "    y_size, x_size = edge.shape\n",
    "    H = np.zeros((y_size, x_size, ra_size, rb_size))\n",
    "    \n",
    "    # r_max = np.hypot(x_size, y_size) / 2\n",
    "    ra_list = np.arange(1, r_max, r_max/ra_size)\n",
    "    rb_list = np.arange(1, r_max, r_max/rb_size)\n",
    "    \n",
    "    for xi in range(x_size):\n",
    "        for yi in range(y_size):\n",
    "            if edge[yi][xi] >= 200:\n",
    "                for ra in range(1, ra_size):\n",
    "                    for rb in range(1, rb_size):\n",
    "                        for deg in range(0, 360):\n",
    "                            theta = np.deg2rad(deg)\n",
    "                            ai = int(xi - ra * cos(theta) + 0.5)\n",
    "                            bi = int(yi + ra * sin(theta) + 0.5)\n",
    "                        \n",
    "                            ra_ind = int((ra - 1) * ra_size / (r_max - 1))\n",
    "                            rb_ind = int((rb - 1) * rb_size / (r_max - 1))\n",
    "                            if 0 <= ai < x_size and 0 <= bi < y_size:\n",
    "                                # H[x_a][y_b][r_ind + 1 if r+1 < r_max else r_max - 1] += 0.5\n",
    "                                H[bi][ai][ra_ind][rb_ind] += 1.0\n",
    "                                # H[x_a][y_b][r_ind - 1 if r_ind - 1 >= 0 else 0] += 0.5\n",
    "    m = np.max(H)\n",
    "    for a in range(x_size):\n",
    "        for b in range(y_size):\n",
    "            for ra in range(ra_size):\n",
    "                for rb in range(rb_size):\n",
    "                    if H[b][a][ra][rb] >= m * peak_prop and H[b][a][ra][rb] > min_vote:\n",
    "                        center_x = a\n",
    "                        center_y = b\n",
    "                        radius_a = int(ra_list[ra])\n",
    "                        radius_b = int(rb_list[rb])\n",
    "                        img_out = cv2.ellipse(img_out, (center_x, center_y), (radius_a, radius_b), (0,255,0), 1) \n",
    "    if img is not None:\n",
    "        return img_out, H\n",
    "    else:\n",
    "        return H"
   ]
  },
  {
   "cell_type": "code",
   "execution_count": null,
   "metadata": {},
   "outputs": [],
   "source": []
  }
 ],
 "metadata": {
  "kernelspec": {
   "display_name": "Python 3",
   "language": "python",
   "name": "python3"
  },
  "language_info": {
   "codemirror_mode": {
    "name": "ipython",
    "version": 3
   },
   "file_extension": ".py",
   "mimetype": "text/x-python",
   "name": "python",
   "nbconvert_exporter": "python",
   "pygments_lexer": "ipython3",
   "version": "3.7.6"
  }
 },
 "nbformat": 4,
 "nbformat_minor": 4
}
