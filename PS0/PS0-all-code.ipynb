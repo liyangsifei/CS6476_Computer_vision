{
 "cells": [
  {
   "cell_type": "code",
   "execution_count": 1,
   "metadata": {},
   "outputs": [],
   "source": [
    "import cv2\n",
    "import numpy as np\n",
    "from math import sqrt"
   ]
  },
  {
   "cell_type": "code",
   "execution_count": 2,
   "metadata": {},
   "outputs": [],
   "source": [
    "img1 = cv2.imread('ps0-1-a-1.jpg', cv2.IMREAD_COLOR)\n",
    "img2 = cv2.imread('ps0-1-a-2.jpg', cv2.IMREAD_COLOR)"
   ]
  },
  {
   "cell_type": "markdown",
   "metadata": {},
   "source": [
    "### 2.Color planes\n",
    "    a. Swap the red and blue pixels of image 1.\n",
    "        Output:\n",
    "![ps0-2-a](./ps0-2-a.jpg)"
   ]
  },
  {
   "cell_type": "code",
   "execution_count": 3,
   "metadata": {},
   "outputs": [
    {
     "data": {
      "text/plain": [
       "True"
      ]
     },
     "execution_count": 3,
     "metadata": {},
     "output_type": "execute_result"
    }
   ],
   "source": [
    "img1_swapRB = img1[:,:,::-1]\n",
    "cv2.imwrite('ps0-2-a.jpg', img1_swapRB)"
   ]
  },
  {
   "cell_type": "markdown",
   "metadata": {},
   "source": [
    "    b. Create a monochrome image (M1g) by selecting the green channel of image 1\n",
    "        Output:\n",
    "![ps0-2-b](./ps0-2-b.jpg)"
   ]
  },
  {
   "cell_type": "code",
   "execution_count": 4,
   "metadata": {},
   "outputs": [
    {
     "data": {
      "text/plain": [
       "True"
      ]
     },
     "execution_count": 4,
     "metadata": {},
     "output_type": "execute_result"
    }
   ],
   "source": [
    "m1g = img1[:,:,1]\n",
    "cv2.imwrite('ps0-2-b.jpg', m1g)"
   ]
  },
  {
   "cell_type": "markdown",
   "metadata": {},
   "source": [
    "    c. Create a monochrome image (M1r) by selecting the red channel of image 1\n",
    "        Output:\n",
    "![ps0-2-c](./ps0-2-c.jpg)"
   ]
  },
  {
   "cell_type": "code",
   "execution_count": 5,
   "metadata": {},
   "outputs": [
    {
     "data": {
      "text/plain": [
       "True"
      ]
     },
     "execution_count": 5,
     "metadata": {},
     "output_type": "execute_result"
    }
   ],
   "source": [
    "m1r = img1[:,:,2]\n",
    "cv2.imwrite('ps0-2-c.jpg', m1r)"
   ]
  },
  {
   "cell_type": "markdown",
   "metadata": {},
   "source": [
    "    d. Which looks more like what you’d expect a monochrome image to look like? Would you expect a computer vision algorithm to work on one better than the other?\n",
    "    \n",
    "    Response: The image selected by the green channel looks better; the grayscale is larger than the image of the red channel. The green scale of the original image is larger than it's red scale.\n",
    "        We can expand the scale of the image produced by c). For example, the min pixel is 100, and the max pixel is 200, we project [100, 200] to [0, 255]. "
   ]
  },
  {
   "cell_type": "markdown",
   "metadata": {},
   "source": []
  },
  {
   "cell_type": "markdown",
   "metadata": {},
   "source": [
    "### 3 Replacement of pixels\n",
    "    a. Take the inner square of 100x100 pixels of monochrome version of image 1 and insert them into the monochrome version of image 2\n",
    "        Output:\n",
    "![ps0-3-a](./ps0-3-a.jpg)"
   ]
  },
  {
   "cell_type": "code",
   "execution_count": 6,
   "metadata": {},
   "outputs": [
    {
     "data": {
      "text/plain": [
       "True"
      ]
     },
     "execution_count": 6,
     "metadata": {},
     "output_type": "execute_result"
    }
   ],
   "source": [
    "img_replaced = img2\n",
    "img_replaced[78:178,78:178,2] = m1r[206:306,206:306]\n",
    "cv2.imwrite('ps0-3-a.jpg', img_replaced)"
   ]
  },
  {
   "cell_type": "markdown",
   "metadata": {},
   "source": [
    "### 4 Arithmetic and Geometric operation\n",
    "    a. What is the min and max of the pixel values of M1g? What is the mean? What is the standard deviation? And how did you compute these?"
   ]
  },
  {
   "cell_type": "code",
   "execution_count": 7,
   "metadata": {},
   "outputs": [
    {
     "name": "stdout",
     "output_type": "stream",
     "text": [
      "Max of M1g 239\n",
      "Min of M1g 0\n",
      "Mean of M1g 115.65623092651367\n",
      "Standard deviation of M1g 74.47395743997122\n"
     ]
    }
   ],
   "source": [
    "m1g_mean = np.mean(m1g)\n",
    "m1g_std = np.std(m1g)\n",
    "print(\"Max of M1g {}\".format(np.max(m1g)))\n",
    "print(\"Min of M1g {}\".format(np.min(m1g)))\n",
    "print(\"Mean of M1g {}\".format(m1g_mean))\n",
    "print(\"Standard deviation of M1g {}\".format(m1g_std))"
   ]
  },
  {
   "cell_type": "markdown",
   "metadata": {},
   "source": [
    "Compute with numpy package or as below:"
   ]
  },
  {
   "cell_type": "code",
   "execution_count": 8,
   "metadata": {},
   "outputs": [
    {
     "name": "stdout",
     "output_type": "stream",
     "text": [
      "239\n",
      "0\n",
      "115.65623092651367\n",
      "74.47395743996881\n"
     ]
    }
   ],
   "source": [
    "m1g_max = 0\n",
    "m1g_min = 255\n",
    "m1g_sum = 0\n",
    "for i in range(512):\n",
    "    for j in range(512):\n",
    "        if m1g[i][j] > m1g_max:\n",
    "            m1g_max = m1g[i][j]\n",
    "        if m1g[i][j] < m1g_min:\n",
    "            m1g_min = m1g[i][j]\n",
    "        m1g_sum += m1g[i][j]\n",
    "m1g_avg = m1g_sum / (512 * 512)\n",
    "m1g_err = 0\n",
    "for i in range(512):\n",
    "    for j in range(512):\n",
    "        m1g_err += (m1g[i][j] - m1g_avg) ** 2\n",
    "print(m1g_max)\n",
    "print(m1g_min)\n",
    "print(m1g_avg)\n",
    "print(sqrt(m1g_err / (512 * 512)))"
   ]
  },
  {
   "cell_type": "markdown",
   "metadata": {},
   "source": [
    "    b. Subtract the mean from all the pixels, then divide by the standard deviation, then multiply by 10 (if your image is zero to 255) or by 0.05 (if your image ranges from 0.0 to 1.0). Now add the mean back in.\n",
    "    Ouptut:\n",
    "![ps0-4-b](./ps0-4-b.jpg)"
   ]
  },
  {
   "cell_type": "code",
   "execution_count": 9,
   "metadata": {},
   "outputs": [
    {
     "data": {
      "text/plain": [
       "True"
      ]
     },
     "execution_count": 9,
     "metadata": {},
     "output_type": "execute_result"
    }
   ],
   "source": [
    "m1g_copy = m1g.copy()\n",
    "m1g_copy = np.subtract(m1g_copy, m1g_mean)\n",
    "# cv2.imwrite(\"m1g2-1.png\", m1g_copy)\n",
    "m1g_copy = np.divide(m1g_copy, m1g_std)\n",
    "# cv2.imwrite(\"m1g2-2.png\", m1g_copy)\n",
    "m1g_copy = np.multiply(m1g_copy, 10)\n",
    "# cv2.imwrite(\"m1g2-3.png\", m1g_copy)\n",
    "m1g_copy = np.add(m1g_copy, m1g_mean)\n",
    "cv2.imwrite(\"ps0-4-b.jpg\", m1g_copy)"
   ]
  },
  {
   "cell_type": "markdown",
   "metadata": {},
   "source": [
    "    c. Shift M1g to the left by 2 pixels.\n",
    "        Output:\n",
    "![ps0-4-c](./ps0-4-c.jpg)"
   ]
  },
  {
   "cell_type": "code",
   "execution_count": 10,
   "metadata": {},
   "outputs": [
    {
     "data": {
      "text/plain": [
       "True"
      ]
     },
     "execution_count": 10,
     "metadata": {},
     "output_type": "execute_result"
    }
   ],
   "source": [
    "m1g_shifted = np.hstack((m1g[:, 2:], np.zeros((512, 2))))\n",
    "\n",
    "cv2.imwrite('ps0-4-c.jpg', m1g_shifted)"
   ]
  },
  {
   "cell_type": "markdown",
   "metadata": {},
   "source": [
    "    d. Subtract the shifted version of M1g from the original and make sure that the values are legal (what do negative numbers for pixels mean anyway?)."
   ]
  },
  {
   "cell_type": "code",
   "execution_count": 11,
   "metadata": {},
   "outputs": [
    {
     "data": {
      "text/plain": [
       "True"
      ]
     },
     "execution_count": 11,
     "metadata": {},
     "output_type": "execute_result"
    }
   ],
   "source": [
    "m1g_sub = np.subtract(m1g, m1g_shifted)\n",
    "for i in range(512):\n",
    "    for j in range(512):\n",
    "        if m1g_sub[i][j] < 0:\n",
    "            m1g_sub[i][j] = 0\n",
    "cv2.imwrite('ps0-4-d.jpg', m1g_sub)"
   ]
  },
  {
   "cell_type": "markdown",
   "metadata": {},
   "source": [
    "### 5 Noise\n",
    "    a. Take the original colored image and start adding Gaussian noise to the pixels in the green channel. Increase sigma until the noise is somewhat visible.\n",
    "    Output: \n",
    "![ps0-5-a](./ps0-5-a.jpg)"
   ]
  },
  {
   "cell_type": "markdown",
   "metadata": {},
   "source": [
    "    Response: Sigma represents the spread width of the gaussian distribution, square of the standard deviation. In the gaussian noise, it is the visibility of the noise pixels"
   ]
  },
  {
   "cell_type": "code",
   "execution_count": 12,
   "metadata": {},
   "outputs": [
    {
     "data": {
      "text/plain": [
       "True"
      ]
     },
     "execution_count": 12,
     "metadata": {},
     "output_type": "execute_result"
    }
   ],
   "source": [
    "mean = 0\n",
    "sigma = 30\n",
    "\n",
    "noise = np.random.normal(mean, sigma, img1[:,:,1].shape)\n",
    "img_noisy = img1.copy()\n",
    "img_noisy[:, :, 1] = img_noisy[:, :, 1] + noise\n",
    "\n",
    "img_noisy[:, :, 1] = np.clip(img_noisy[:, :, 1], 0, 255)\n",
    "# img_noisy = np.uint8(img_noisy * 255)\n",
    "cv2.imwrite(\"ps0-5-a.jpg\", img_noisy)"
   ]
  },
  {
   "cell_type": "markdown",
   "metadata": {},
   "source": [
    "    b. Now, instead add that amount of noise to the blue channel.\n",
    "    Output:\n",
    "![ps0-5-b](./ps0-5-b.jpg)"
   ]
  },
  {
   "cell_type": "code",
   "execution_count": 13,
   "metadata": {},
   "outputs": [
    {
     "data": {
      "text/plain": [
       "True"
      ]
     },
     "execution_count": 13,
     "metadata": {},
     "output_type": "execute_result"
    }
   ],
   "source": [
    "img_noisy_b = img1.copy()\n",
    "img_noisy_b[:, :, 0] = img_noisy_b[:, :, 0] + noise\n",
    "\n",
    "img_noisy_b[:, :, 0] = np.clip(img_noisy_b[:, :, 0], 0, 255)\n",
    "cv2.imwrite(\"ps0-5-b.jpg\", img_noisy_b)"
   ]
  },
  {
   "cell_type": "markdown",
   "metadata": {},
   "source": [
    "    c. Which looks better? Why?\n",
    "    Response: The noise added to the green channel is more evident because most of the original image has low blue channel values."
   ]
  },
  {
   "cell_type": "code",
   "execution_count": null,
   "metadata": {},
   "outputs": [],
   "source": []
  }
 ],
 "metadata": {
  "kernelspec": {
   "display_name": "Python 3",
   "language": "python",
   "name": "python3"
  },
  "language_info": {
   "codemirror_mode": {
    "name": "ipython",
    "version": 3
   },
   "file_extension": ".py",
   "mimetype": "text/x-python",
   "name": "python",
   "nbconvert_exporter": "python",
   "pygments_lexer": "ipython3",
   "version": "3.7.6"
  }
 },
 "nbformat": 4,
 "nbformat_minor": 4
}
